{
 "cells": [
  {
   "cell_type": "code",
   "execution_count": 2,
   "id": "637447d3",
   "metadata": {},
   "outputs": [],
   "source": [
    "import numpy as np\n",
    "import pandas as pd\n",
    "import plotly.express as px\n",
    "\n",
    "import matplotlib.pyplot as plt"
   ]
  },
  {
   "cell_type": "code",
   "execution_count": 3,
   "id": "afd2cad4",
   "metadata": {},
   "outputs": [
    {
     "data": {
      "text/html": [
       "<div>\n",
       "<style scoped>\n",
       "    .dataframe tbody tr th:only-of-type {\n",
       "        vertical-align: middle;\n",
       "    }\n",
       "\n",
       "    .dataframe tbody tr th {\n",
       "        vertical-align: top;\n",
       "    }\n",
       "\n",
       "    .dataframe thead th {\n",
       "        text-align: right;\n",
       "    }\n",
       "</style>\n",
       "<table border=\"1\" class=\"dataframe\">\n",
       "  <thead>\n",
       "    <tr style=\"text-align: right;\">\n",
       "      <th></th>\n",
       "      <th>State</th>\n",
       "      <th>District</th>\n",
       "      <th>Latitude</th>\n",
       "      <th>Longitude</th>\n",
       "      <th>District code</th>\n",
       "      <th>Population</th>\n",
       "      <th>Male_Literate</th>\n",
       "      <th>Female_Literate</th>\n",
       "      <th>Households_with_Internet</th>\n",
       "      <th>Housholds_with_Electric_Lighting</th>\n",
       "      <th>sex_ratio</th>\n",
       "      <th>literacy_rate</th>\n",
       "    </tr>\n",
       "  </thead>\n",
       "  <tbody>\n",
       "    <tr>\n",
       "      <th>0</th>\n",
       "      <td>Andhra Pradesh</td>\n",
       "      <td>Adilabad</td>\n",
       "      <td>19.284514</td>\n",
       "      <td>78.813212</td>\n",
       "      <td>532</td>\n",
       "      <td>2741239</td>\n",
       "      <td>856350</td>\n",
       "      <td>626997</td>\n",
       "      <td>5512</td>\n",
       "      <td>566108</td>\n",
       "      <td>100.0</td>\n",
       "      <td>54.0</td>\n",
       "    </tr>\n",
       "    <tr>\n",
       "      <th>1</th>\n",
       "      <td>Andhra Pradesh</td>\n",
       "      <td>Anantapur</td>\n",
       "      <td>14.312066</td>\n",
       "      <td>77.460158</td>\n",
       "      <td>553</td>\n",
       "      <td>4081148</td>\n",
       "      <td>1338474</td>\n",
       "      <td>972486</td>\n",
       "      <td>8606</td>\n",
       "      <td>897970</td>\n",
       "      <td>98.0</td>\n",
       "      <td>57.0</td>\n",
       "    </tr>\n",
       "    <tr>\n",
       "      <th>2</th>\n",
       "      <td>Andhra Pradesh</td>\n",
       "      <td>Chittoor</td>\n",
       "      <td>13.331093</td>\n",
       "      <td>78.927639</td>\n",
       "      <td>554</td>\n",
       "      <td>4174064</td>\n",
       "      <td>1484794</td>\n",
       "      <td>1183084</td>\n",
       "      <td>13763</td>\n",
       "      <td>944555</td>\n",
       "      <td>100.0</td>\n",
       "      <td>64.0</td>\n",
       "    </tr>\n",
       "    <tr>\n",
       "      <th>3</th>\n",
       "      <td>Andhra Pradesh</td>\n",
       "      <td>East Godavari</td>\n",
       "      <td>16.782718</td>\n",
       "      <td>82.243207</td>\n",
       "      <td>545</td>\n",
       "      <td>5154296</td>\n",
       "      <td>1716933</td>\n",
       "      <td>1571644</td>\n",
       "      <td>22411</td>\n",
       "      <td>1297273</td>\n",
       "      <td>101.0</td>\n",
       "      <td>64.0</td>\n",
       "    </tr>\n",
       "    <tr>\n",
       "      <th>4</th>\n",
       "      <td>Andhra Pradesh</td>\n",
       "      <td>Guntur</td>\n",
       "      <td>15.884926</td>\n",
       "      <td>80.586576</td>\n",
       "      <td>548</td>\n",
       "      <td>4887813</td>\n",
       "      <td>1634726</td>\n",
       "      <td>1325715</td>\n",
       "      <td>19383</td>\n",
       "      <td>1186028</td>\n",
       "      <td>100.0</td>\n",
       "      <td>61.0</td>\n",
       "    </tr>\n",
       "  </tbody>\n",
       "</table>\n",
       "</div>"
      ],
      "text/plain": [
       "            State       District   Latitude  Longitude  District code  \\\n",
       "0  Andhra Pradesh       Adilabad  19.284514  78.813212            532   \n",
       "1  Andhra Pradesh      Anantapur  14.312066  77.460158            553   \n",
       "2  Andhra Pradesh       Chittoor  13.331093  78.927639            554   \n",
       "3  Andhra Pradesh  East Godavari  16.782718  82.243207            545   \n",
       "4  Andhra Pradesh         Guntur  15.884926  80.586576            548   \n",
       "\n",
       "   Population  Male_Literate  Female_Literate  Households_with_Internet  \\\n",
       "0     2741239         856350           626997                      5512   \n",
       "1     4081148        1338474           972486                      8606   \n",
       "2     4174064        1484794          1183084                     13763   \n",
       "3     5154296        1716933          1571644                     22411   \n",
       "4     4887813        1634726          1325715                     19383   \n",
       "\n",
       "   Housholds_with_Electric_Lighting  sex_ratio  literacy_rate  \n",
       "0                            566108      100.0           54.0  \n",
       "1                            897970       98.0           57.0  \n",
       "2                            944555      100.0           64.0  \n",
       "3                           1297273      101.0           64.0  \n",
       "4                           1186028      100.0           61.0  "
      ]
     },
     "execution_count": 3,
     "metadata": {},
     "output_type": "execute_result"
    }
   ],
   "source": [
    "df = pd.read_csv('final_df.csv')\n",
    "\n",
    "df.head()"
   ]
  },
  {
   "cell_type": "code",
   "execution_count": 4,
   "id": "6df40c3b",
   "metadata": {},
   "outputs": [
    {
     "data": {
      "text/plain": [
       "['Over All India',\n",
       " 'Andhra Pradesh',\n",
       " 'Arunachal Pradesh',\n",
       " 'Assam',\n",
       " 'Bihar',\n",
       " 'Maharashtra',\n",
       " 'Chandigarh',\n",
       " 'Chhattisgarh',\n",
       " 'Himachal Pradesh',\n",
       " 'Daman and Diu',\n",
       " 'Gujarat',\n",
       " 'Goa',\n",
       " 'Haryana',\n",
       " 'Uttar Pradesh',\n",
       " 'Jammu and Kashmir',\n",
       " 'Jharkhand',\n",
       " 'Karnataka',\n",
       " 'Kerala',\n",
       " 'Madhya Pradesh',\n",
       " 'Manipur',\n",
       " 'Meghalaya',\n",
       " 'Mizoram',\n",
       " 'Nagaland',\n",
       " 'Orissa',\n",
       " 'Puducherry',\n",
       " 'Punjab',\n",
       " 'Rajasthan',\n",
       " 'Sikkim',\n",
       " 'Tamil Nadu',\n",
       " 'Tripura',\n",
       " 'Uttaranchal',\n",
       " 'West Bengal']"
      ]
     },
     "execution_count": 4,
     "metadata": {},
     "output_type": "execute_result"
    }
   ],
   "source": [
    "list_of_state = list(df['State'].unique())\n",
    "list_of_state.insert(0,'Over All India')\n",
    "\n",
    "list_of_state"
   ]
  },
  {
   "cell_type": "code",
   "execution_count": 5,
   "id": "28edb8c2",
   "metadata": {},
   "outputs": [
    {
     "data": {
      "application/vnd.plotly.v1+json": {
       "config": {
        "plotlyServerURL": "https://plot.ly"
       },
       "data": [
        {
         "hovertemplate": "Latitude=%{lat}<br>Longitude=%{lon}<extra></extra>",
         "lat": {
          "bdata": "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",
          "dtype": "f8"
         },
         "legendgroup": "",
         "lon": {
          "bdata": "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",
          "dtype": "f8"
         },
         "marker": {
          "color": "#636efa"
         },
         "mode": "markers",
         "name": "",
         "showlegend": false,
         "subplot": "map",
         "type": "scattermap"
        }
       ],
       "layout": {
        "legend": {
         "tracegroupgap": 0
        },
        "map": {
         "center": {
          "lat": 23.32723209718341,
          "lon": 80.91021547921513
         },
         "domain": {
          "x": [
           0,
           1
          ],
          "y": [
           0,
           1
          ]
         },
         "zoom": 10
        },
        "mapbox": {
         "center": {
          "lat": 23.32723209718341,
          "lon": 80.91021547921513
         },
         "zoom": 10
        },
        "margin": {
         "t": 60
        },
        "template": {
         "data": {
          "bar": [
           {
            "error_x": {
             "color": "#2a3f5f"
            },
            "error_y": {
             "color": "#2a3f5f"
            },
            "marker": {
             "line": {
              "color": "#E5ECF6",
              "width": 0.5
             },
             "pattern": {
              "fillmode": "overlay",
              "size": 10,
              "solidity": 0.2
             }
            },
            "type": "bar"
           }
          ],
          "barpolar": [
           {
            "marker": {
             "line": {
              "color": "#E5ECF6",
              "width": 0.5
             },
             "pattern": {
              "fillmode": "overlay",
              "size": 10,
              "solidity": 0.2
             }
            },
            "type": "barpolar"
           }
          ],
          "carpet": [
           {
            "aaxis": {
             "endlinecolor": "#2a3f5f",
             "gridcolor": "white",
             "linecolor": "white",
             "minorgridcolor": "white",
             "startlinecolor": "#2a3f5f"
            },
            "baxis": {
             "endlinecolor": "#2a3f5f",
             "gridcolor": "white",
             "linecolor": "white",
             "minorgridcolor": "white",
             "startlinecolor": "#2a3f5f"
            },
            "type": "carpet"
           }
          ],
          "choropleth": [
           {
            "colorbar": {
             "outlinewidth": 0,
             "ticks": ""
            },
            "type": "choropleth"
           }
          ],
          "contour": [
           {
            "colorbar": {
             "outlinewidth": 0,
             "ticks": ""
            },
            "colorscale": [
             [
              0,
              "#0d0887"
             ],
             [
              0.1111111111111111,
              "#46039f"
             ],
             [
              0.2222222222222222,
              "#7201a8"
             ],
             [
              0.3333333333333333,
              "#9c179e"
             ],
             [
              0.4444444444444444,
              "#bd3786"
             ],
             [
              0.5555555555555556,
              "#d8576b"
             ],
             [
              0.6666666666666666,
              "#ed7953"
             ],
             [
              0.7777777777777778,
              "#fb9f3a"
             ],
             [
              0.8888888888888888,
              "#fdca26"
             ],
             [
              1,
              "#f0f921"
             ]
            ],
            "type": "contour"
           }
          ],
          "contourcarpet": [
           {
            "colorbar": {
             "outlinewidth": 0,
             "ticks": ""
            },
            "type": "contourcarpet"
           }
          ],
          "heatmap": [
           {
            "colorbar": {
             "outlinewidth": 0,
             "ticks": ""
            },
            "colorscale": [
             [
              0,
              "#0d0887"
             ],
             [
              0.1111111111111111,
              "#46039f"
             ],
             [
              0.2222222222222222,
              "#7201a8"
             ],
             [
              0.3333333333333333,
              "#9c179e"
             ],
             [
              0.4444444444444444,
              "#bd3786"
             ],
             [
              0.5555555555555556,
              "#d8576b"
             ],
             [
              0.6666666666666666,
              "#ed7953"
             ],
             [
              0.7777777777777778,
              "#fb9f3a"
             ],
             [
              0.8888888888888888,
              "#fdca26"
             ],
             [
              1,
              "#f0f921"
             ]
            ],
            "type": "heatmap"
           }
          ],
          "histogram": [
           {
            "marker": {
             "pattern": {
              "fillmode": "overlay",
              "size": 10,
              "solidity": 0.2
             }
            },
            "type": "histogram"
           }
          ],
          "histogram2d": [
           {
            "colorbar": {
             "outlinewidth": 0,
             "ticks": ""
            },
            "colorscale": [
             [
              0,
              "#0d0887"
             ],
             [
              0.1111111111111111,
              "#46039f"
             ],
             [
              0.2222222222222222,
              "#7201a8"
             ],
             [
              0.3333333333333333,
              "#9c179e"
             ],
             [
              0.4444444444444444,
              "#bd3786"
             ],
             [
              0.5555555555555556,
              "#d8576b"
             ],
             [
              0.6666666666666666,
              "#ed7953"
             ],
             [
              0.7777777777777778,
              "#fb9f3a"
             ],
             [
              0.8888888888888888,
              "#fdca26"
             ],
             [
              1,
              "#f0f921"
             ]
            ],
            "type": "histogram2d"
           }
          ],
          "histogram2dcontour": [
           {
            "colorbar": {
             "outlinewidth": 0,
             "ticks": ""
            },
            "colorscale": [
             [
              0,
              "#0d0887"
             ],
             [
              0.1111111111111111,
              "#46039f"
             ],
             [
              0.2222222222222222,
              "#7201a8"
             ],
             [
              0.3333333333333333,
              "#9c179e"
             ],
             [
              0.4444444444444444,
              "#bd3786"
             ],
             [
              0.5555555555555556,
              "#d8576b"
             ],
             [
              0.6666666666666666,
              "#ed7953"
             ],
             [
              0.7777777777777778,
              "#fb9f3a"
             ],
             [
              0.8888888888888888,
              "#fdca26"
             ],
             [
              1,
              "#f0f921"
             ]
            ],
            "type": "histogram2dcontour"
           }
          ],
          "mesh3d": [
           {
            "colorbar": {
             "outlinewidth": 0,
             "ticks": ""
            },
            "type": "mesh3d"
           }
          ],
          "parcoords": [
           {
            "line": {
             "colorbar": {
              "outlinewidth": 0,
              "ticks": ""
             }
            },
            "type": "parcoords"
           }
          ],
          "pie": [
           {
            "automargin": true,
            "type": "pie"
           }
          ],
          "scatter": [
           {
            "fillpattern": {
             "fillmode": "overlay",
             "size": 10,
             "solidity": 0.2
            },
            "type": "scatter"
           }
          ],
          "scatter3d": [
           {
            "line": {
             "colorbar": {
              "outlinewidth": 0,
              "ticks": ""
             }
            },
            "marker": {
             "colorbar": {
              "outlinewidth": 0,
              "ticks": ""
             }
            },
            "type": "scatter3d"
           }
          ],
          "scattercarpet": [
           {
            "marker": {
             "colorbar": {
              "outlinewidth": 0,
              "ticks": ""
             }
            },
            "type": "scattercarpet"
           }
          ],
          "scattergeo": [
           {
            "marker": {
             "colorbar": {
              "outlinewidth": 0,
              "ticks": ""
             }
            },
            "type": "scattergeo"
           }
          ],
          "scattergl": [
           {
            "marker": {
             "colorbar": {
              "outlinewidth": 0,
              "ticks": ""
             }
            },
            "type": "scattergl"
           }
          ],
          "scattermap": [
           {
            "marker": {
             "colorbar": {
              "outlinewidth": 0,
              "ticks": ""
             }
            },
            "type": "scattermap"
           }
          ],
          "scattermapbox": [
           {
            "marker": {
             "colorbar": {
              "outlinewidth": 0,
              "ticks": ""
             }
            },
            "type": "scattermapbox"
           }
          ],
          "scatterpolar": [
           {
            "marker": {
             "colorbar": {
              "outlinewidth": 0,
              "ticks": ""
             }
            },
            "type": "scatterpolar"
           }
          ],
          "scatterpolargl": [
           {
            "marker": {
             "colorbar": {
              "outlinewidth": 0,
              "ticks": ""
             }
            },
            "type": "scatterpolargl"
           }
          ],
          "scatterternary": [
           {
            "marker": {
             "colorbar": {
              "outlinewidth": 0,
              "ticks": ""
             }
            },
            "type": "scatterternary"
           }
          ],
          "surface": [
           {
            "colorbar": {
             "outlinewidth": 0,
             "ticks": ""
            },
            "colorscale": [
             [
              0,
              "#0d0887"
             ],
             [
              0.1111111111111111,
              "#46039f"
             ],
             [
              0.2222222222222222,
              "#7201a8"
             ],
             [
              0.3333333333333333,
              "#9c179e"
             ],
             [
              0.4444444444444444,
              "#bd3786"
             ],
             [
              0.5555555555555556,
              "#d8576b"
             ],
             [
              0.6666666666666666,
              "#ed7953"
             ],
             [
              0.7777777777777778,
              "#fb9f3a"
             ],
             [
              0.8888888888888888,
              "#fdca26"
             ],
             [
              1,
              "#f0f921"
             ]
            ],
            "type": "surface"
           }
          ],
          "table": [
           {
            "cells": {
             "fill": {
              "color": "#EBF0F8"
             },
             "line": {
              "color": "white"
             }
            },
            "header": {
             "fill": {
              "color": "#C8D4E3"
             },
             "line": {
              "color": "white"
             }
            },
            "type": "table"
           }
          ]
         },
         "layout": {
          "annotationdefaults": {
           "arrowcolor": "#2a3f5f",
           "arrowhead": 0,
           "arrowwidth": 1
          },
          "autotypenumbers": "strict",
          "coloraxis": {
           "colorbar": {
            "outlinewidth": 0,
            "ticks": ""
           }
          },
          "colorscale": {
           "diverging": [
            [
             0,
             "#8e0152"
            ],
            [
             0.1,
             "#c51b7d"
            ],
            [
             0.2,
             "#de77ae"
            ],
            [
             0.3,
             "#f1b6da"
            ],
            [
             0.4,
             "#fde0ef"
            ],
            [
             0.5,
             "#f7f7f7"
            ],
            [
             0.6,
             "#e6f5d0"
            ],
            [
             0.7,
             "#b8e186"
            ],
            [
             0.8,
             "#7fbc41"
            ],
            [
             0.9,
             "#4d9221"
            ],
            [
             1,
             "#276419"
            ]
           ],
           "sequential": [
            [
             0,
             "#0d0887"
            ],
            [
             0.1111111111111111,
             "#46039f"
            ],
            [
             0.2222222222222222,
             "#7201a8"
            ],
            [
             0.3333333333333333,
             "#9c179e"
            ],
            [
             0.4444444444444444,
             "#bd3786"
            ],
            [
             0.5555555555555556,
             "#d8576b"
            ],
            [
             0.6666666666666666,
             "#ed7953"
            ],
            [
             0.7777777777777778,
             "#fb9f3a"
            ],
            [
             0.8888888888888888,
             "#fdca26"
            ],
            [
             1,
             "#f0f921"
            ]
           ],
           "sequentialminus": [
            [
             0,
             "#0d0887"
            ],
            [
             0.1111111111111111,
             "#46039f"
            ],
            [
             0.2222222222222222,
             "#7201a8"
            ],
            [
             0.3333333333333333,
             "#9c179e"
            ],
            [
             0.4444444444444444,
             "#bd3786"
            ],
            [
             0.5555555555555556,
             "#d8576b"
            ],
            [
             0.6666666666666666,
             "#ed7953"
            ],
            [
             0.7777777777777778,
             "#fb9f3a"
            ],
            [
             0.8888888888888888,
             "#fdca26"
            ],
            [
             1,
             "#f0f921"
            ]
           ]
          },
          "colorway": [
           "#636efa",
           "#EF553B",
           "#00cc96",
           "#ab63fa",
           "#FFA15A",
           "#19d3f3",
           "#FF6692",
           "#B6E880",
           "#FF97FF",
           "#FECB52"
          ],
          "font": {
           "color": "#2a3f5f"
          },
          "geo": {
           "bgcolor": "white",
           "lakecolor": "white",
           "landcolor": "#E5ECF6",
           "showlakes": true,
           "showland": true,
           "subunitcolor": "white"
          },
          "hoverlabel": {
           "align": "left"
          },
          "hovermode": "closest",
          "mapbox": {
           "style": "light"
          },
          "paper_bgcolor": "white",
          "plot_bgcolor": "#E5ECF6",
          "polar": {
           "angularaxis": {
            "gridcolor": "white",
            "linecolor": "white",
            "ticks": ""
           },
           "bgcolor": "#E5ECF6",
           "radialaxis": {
            "gridcolor": "white",
            "linecolor": "white",
            "ticks": ""
           }
          },
          "scene": {
           "xaxis": {
            "backgroundcolor": "#E5ECF6",
            "gridcolor": "white",
            "gridwidth": 2,
            "linecolor": "white",
            "showbackground": true,
            "ticks": "",
            "zerolinecolor": "white"
           },
           "yaxis": {
            "backgroundcolor": "#E5ECF6",
            "gridcolor": "white",
            "gridwidth": 2,
            "linecolor": "white",
            "showbackground": true,
            "ticks": "",
            "zerolinecolor": "white"
           },
           "zaxis": {
            "backgroundcolor": "#E5ECF6",
            "gridcolor": "white",
            "gridwidth": 2,
            "linecolor": "white",
            "showbackground": true,
            "ticks": "",
            "zerolinecolor": "white"
           }
          },
          "shapedefaults": {
           "line": {
            "color": "#2a3f5f"
           }
          },
          "ternary": {
           "aaxis": {
            "gridcolor": "white",
            "linecolor": "white",
            "ticks": ""
           },
           "baxis": {
            "gridcolor": "white",
            "linecolor": "white",
            "ticks": ""
           },
           "bgcolor": "#E5ECF6",
           "caxis": {
            "gridcolor": "white",
            "linecolor": "white",
            "ticks": ""
           }
          },
          "title": {
           "x": 0.05
          },
          "xaxis": {
           "automargin": true,
           "gridcolor": "white",
           "linecolor": "white",
           "ticks": "",
           "title": {
            "standoff": 15
           },
           "zerolinecolor": "white",
           "zerolinewidth": 2
          },
          "yaxis": {
           "automargin": true,
           "gridcolor": "white",
           "linecolor": "white",
           "ticks": "",
           "title": {
            "standoff": 15
           },
           "zerolinecolor": "white",
           "zerolinewidth": 2
          }
         }
        }
       }
      }
     },
     "metadata": {},
     "output_type": "display_data"
    }
   ],
   "source": [
    "import plotly.express as px\n",
    "fig = px.scatter_map(df, lat=\"Latitude\", lon=\"Longitude\",size_max=15, zoom=10)\n",
    "fig.show()"
   ]
  },
  {
   "cell_type": "code",
   "execution_count": 6,
   "id": "3c2f89ac",
   "metadata": {},
   "outputs": [
    {
     "data": {
      "text/html": [
       "<div>\n",
       "<style scoped>\n",
       "    .dataframe tbody tr th:only-of-type {\n",
       "        vertical-align: middle;\n",
       "    }\n",
       "\n",
       "    .dataframe tbody tr th {\n",
       "        vertical-align: top;\n",
       "    }\n",
       "\n",
       "    .dataframe thead th {\n",
       "        text-align: right;\n",
       "    }\n",
       "</style>\n",
       "<table border=\"1\" class=\"dataframe\">\n",
       "  <thead>\n",
       "    <tr style=\"text-align: right;\">\n",
       "      <th></th>\n",
       "      <th>State</th>\n",
       "      <th>District</th>\n",
       "      <th>Latitude</th>\n",
       "      <th>Longitude</th>\n",
       "      <th>District code</th>\n",
       "      <th>Population</th>\n",
       "      <th>Male_Literate</th>\n",
       "      <th>Female_Literate</th>\n",
       "      <th>Households_with_Internet</th>\n",
       "      <th>Housholds_with_Electric_Lighting</th>\n",
       "      <th>sex_ratio</th>\n",
       "      <th>literacy_rate</th>\n",
       "    </tr>\n",
       "  </thead>\n",
       "  <tbody>\n",
       "    <tr>\n",
       "      <th>0</th>\n",
       "      <td>Andhra Pradesh</td>\n",
       "      <td>Adilabad</td>\n",
       "      <td>19.284514</td>\n",
       "      <td>78.813212</td>\n",
       "      <td>532</td>\n",
       "      <td>2741239</td>\n",
       "      <td>856350</td>\n",
       "      <td>626997</td>\n",
       "      <td>5512</td>\n",
       "      <td>566108</td>\n",
       "      <td>100.0</td>\n",
       "      <td>54.0</td>\n",
       "    </tr>\n",
       "    <tr>\n",
       "      <th>1</th>\n",
       "      <td>Andhra Pradesh</td>\n",
       "      <td>Anantapur</td>\n",
       "      <td>14.312066</td>\n",
       "      <td>77.460158</td>\n",
       "      <td>553</td>\n",
       "      <td>4081148</td>\n",
       "      <td>1338474</td>\n",
       "      <td>972486</td>\n",
       "      <td>8606</td>\n",
       "      <td>897970</td>\n",
       "      <td>98.0</td>\n",
       "      <td>57.0</td>\n",
       "    </tr>\n",
       "    <tr>\n",
       "      <th>2</th>\n",
       "      <td>Andhra Pradesh</td>\n",
       "      <td>Chittoor</td>\n",
       "      <td>13.331093</td>\n",
       "      <td>78.927639</td>\n",
       "      <td>554</td>\n",
       "      <td>4174064</td>\n",
       "      <td>1484794</td>\n",
       "      <td>1183084</td>\n",
       "      <td>13763</td>\n",
       "      <td>944555</td>\n",
       "      <td>100.0</td>\n",
       "      <td>64.0</td>\n",
       "    </tr>\n",
       "    <tr>\n",
       "      <th>3</th>\n",
       "      <td>Andhra Pradesh</td>\n",
       "      <td>East Godavari</td>\n",
       "      <td>16.782718</td>\n",
       "      <td>82.243207</td>\n",
       "      <td>545</td>\n",
       "      <td>5154296</td>\n",
       "      <td>1716933</td>\n",
       "      <td>1571644</td>\n",
       "      <td>22411</td>\n",
       "      <td>1297273</td>\n",
       "      <td>101.0</td>\n",
       "      <td>64.0</td>\n",
       "    </tr>\n",
       "    <tr>\n",
       "      <th>4</th>\n",
       "      <td>Andhra Pradesh</td>\n",
       "      <td>Guntur</td>\n",
       "      <td>15.884926</td>\n",
       "      <td>80.586576</td>\n",
       "      <td>548</td>\n",
       "      <td>4887813</td>\n",
       "      <td>1634726</td>\n",
       "      <td>1325715</td>\n",
       "      <td>19383</td>\n",
       "      <td>1186028</td>\n",
       "      <td>100.0</td>\n",
       "      <td>61.0</td>\n",
       "    </tr>\n",
       "    <tr>\n",
       "      <th>...</th>\n",
       "      <td>...</td>\n",
       "      <td>...</td>\n",
       "      <td>...</td>\n",
       "      <td>...</td>\n",
       "      <td>...</td>\n",
       "      <td>...</td>\n",
       "      <td>...</td>\n",
       "      <td>...</td>\n",
       "      <td>...</td>\n",
       "      <td>...</td>\n",
       "      <td>...</td>\n",
       "      <td>...</td>\n",
       "    </tr>\n",
       "    <tr>\n",
       "      <th>512</th>\n",
       "      <td>West Bengal</td>\n",
       "      <td>Maldah</td>\n",
       "      <td>25.080268</td>\n",
       "      <td>88.171917</td>\n",
       "      <td>332</td>\n",
       "      <td>3988845</td>\n",
       "      <td>1152019</td>\n",
       "      <td>934413</td>\n",
       "      <td>5357</td>\n",
       "      <td>297716</td>\n",
       "      <td>94.0</td>\n",
       "      <td>52.0</td>\n",
       "    </tr>\n",
       "    <tr>\n",
       "      <th>513</th>\n",
       "      <td>West Bengal</td>\n",
       "      <td>Murshidabad</td>\n",
       "      <td>24.259507</td>\n",
       "      <td>88.168169</td>\n",
       "      <td>333</td>\n",
       "      <td>7103807</td>\n",
       "      <td>2177187</td>\n",
       "      <td>1878647</td>\n",
       "      <td>7951</td>\n",
       "      <td>541169</td>\n",
       "      <td>96.0</td>\n",
       "      <td>57.0</td>\n",
       "    </tr>\n",
       "    <tr>\n",
       "      <th>514</th>\n",
       "      <td>West Bengal</td>\n",
       "      <td>Nadia</td>\n",
       "      <td>23.564110</td>\n",
       "      <td>88.582930</td>\n",
       "      <td>336</td>\n",
       "      <td>5167600</td>\n",
       "      <td>1878866</td>\n",
       "      <td>1601689</td>\n",
       "      <td>12787</td>\n",
       "      <td>623729</td>\n",
       "      <td>95.0</td>\n",
       "      <td>67.0</td>\n",
       "    </tr>\n",
       "    <tr>\n",
       "      <th>515</th>\n",
       "      <td>West Bengal</td>\n",
       "      <td>Puruliya</td>\n",
       "      <td>23.254192</td>\n",
       "      <td>86.396853</td>\n",
       "      <td>340</td>\n",
       "      <td>2930115</td>\n",
       "      <td>1002058</td>\n",
       "      <td>622847</td>\n",
       "      <td>3551</td>\n",
       "      <td>189889</td>\n",
       "      <td>96.0</td>\n",
       "      <td>55.0</td>\n",
       "    </tr>\n",
       "    <tr>\n",
       "      <th>516</th>\n",
       "      <td>West Bengal</td>\n",
       "      <td>Uttar Dinajpur</td>\n",
       "      <td>26.044619</td>\n",
       "      <td>88.235952</td>\n",
       "      <td>330</td>\n",
       "      <td>3007134</td>\n",
       "      <td>853495</td>\n",
       "      <td>636172</td>\n",
       "      <td>2883</td>\n",
       "      <td>199307</td>\n",
       "      <td>94.0</td>\n",
       "      <td>50.0</td>\n",
       "    </tr>\n",
       "  </tbody>\n",
       "</table>\n",
       "<p>517 rows × 12 columns</p>\n",
       "</div>"
      ],
      "text/plain": [
       "              State        District   Latitude  Longitude  District code  \\\n",
       "0    Andhra Pradesh        Adilabad  19.284514  78.813212            532   \n",
       "1    Andhra Pradesh       Anantapur  14.312066  77.460158            553   \n",
       "2    Andhra Pradesh        Chittoor  13.331093  78.927639            554   \n",
       "3    Andhra Pradesh   East Godavari  16.782718  82.243207            545   \n",
       "4    Andhra Pradesh          Guntur  15.884926  80.586576            548   \n",
       "..              ...             ...        ...        ...            ...   \n",
       "512     West Bengal          Maldah  25.080268  88.171917            332   \n",
       "513     West Bengal     Murshidabad  24.259507  88.168169            333   \n",
       "514     West Bengal           Nadia  23.564110  88.582930            336   \n",
       "515     West Bengal        Puruliya  23.254192  86.396853            340   \n",
       "516     West Bengal  Uttar Dinajpur  26.044619  88.235952            330   \n",
       "\n",
       "     Population  Male_Literate  Female_Literate  Households_with_Internet  \\\n",
       "0       2741239         856350           626997                      5512   \n",
       "1       4081148        1338474           972486                      8606   \n",
       "2       4174064        1484794          1183084                     13763   \n",
       "3       5154296        1716933          1571644                     22411   \n",
       "4       4887813        1634726          1325715                     19383   \n",
       "..          ...            ...              ...                       ...   \n",
       "512     3988845        1152019           934413                      5357   \n",
       "513     7103807        2177187          1878647                      7951   \n",
       "514     5167600        1878866          1601689                     12787   \n",
       "515     2930115        1002058           622847                      3551   \n",
       "516     3007134         853495           636172                      2883   \n",
       "\n",
       "     Housholds_with_Electric_Lighting  sex_ratio  literacy_rate  \n",
       "0                              566108      100.0           54.0  \n",
       "1                              897970       98.0           57.0  \n",
       "2                              944555      100.0           64.0  \n",
       "3                             1297273      101.0           64.0  \n",
       "4                             1186028      100.0           61.0  \n",
       "..                                ...        ...            ...  \n",
       "512                            297716       94.0           52.0  \n",
       "513                            541169       96.0           57.0  \n",
       "514                            623729       95.0           67.0  \n",
       "515                            189889       96.0           55.0  \n",
       "516                            199307       94.0           50.0  \n",
       "\n",
       "[517 rows x 12 columns]"
      ]
     },
     "execution_count": 6,
     "metadata": {},
     "output_type": "execute_result"
    }
   ],
   "source": [
    "df"
   ]
  },
  {
   "cell_type": "code",
   "execution_count": 68,
   "id": "e7503f75",
   "metadata": {},
   "outputs": [
    {
     "data": {
      "text/html": [
       "<div>\n",
       "<style scoped>\n",
       "    .dataframe tbody tr th:only-of-type {\n",
       "        vertical-align: middle;\n",
       "    }\n",
       "\n",
       "    .dataframe tbody tr th {\n",
       "        vertical-align: top;\n",
       "    }\n",
       "\n",
       "    .dataframe thead th {\n",
       "        text-align: right;\n",
       "    }\n",
       "</style>\n",
       "<table border=\"1\" class=\"dataframe\">\n",
       "  <thead>\n",
       "    <tr style=\"text-align: right;\">\n",
       "      <th></th>\n",
       "      <th></th>\n",
       "      <th>Population</th>\n",
       "      <th>Male_Literate</th>\n",
       "      <th>Female_Literate</th>\n",
       "      <th>Households_with_Internet</th>\n",
       "      <th>Housholds_with_Electric_Lighting</th>\n",
       "      <th>sex_ratio</th>\n",
       "      <th>literacy_rate</th>\n",
       "    </tr>\n",
       "    <tr>\n",
       "      <th>State</th>\n",
       "      <th>District</th>\n",
       "      <th></th>\n",
       "      <th></th>\n",
       "      <th></th>\n",
       "      <th></th>\n",
       "      <th></th>\n",
       "      <th></th>\n",
       "      <th></th>\n",
       "    </tr>\n",
       "  </thead>\n",
       "  <tbody>\n",
       "    <tr>\n",
       "      <th rowspan=\"2\" valign=\"top\">Maharashtra</th>\n",
       "      <th>Thane</th>\n",
       "      <td>11060148</td>\n",
       "      <td>4591396</td>\n",
       "      <td>3635765</td>\n",
       "      <td>256170</td>\n",
       "      <td>2231800</td>\n",
       "      <td>89.0</td>\n",
       "      <td>74.0</td>\n",
       "    </tr>\n",
       "    <tr>\n",
       "      <th>Pune</th>\n",
       "      <td>9429408</td>\n",
       "      <td>3940210</td>\n",
       "      <td>3231513</td>\n",
       "      <td>235018</td>\n",
       "      <td>1925019</td>\n",
       "      <td>91.0</td>\n",
       "      <td>76.0</td>\n",
       "    </tr>\n",
       "    <tr>\n",
       "      <th>West Bengal</th>\n",
       "      <th>Barddhaman</th>\n",
       "      <td>7717563</td>\n",
       "      <td>2918040</td>\n",
       "      <td>2329168</td>\n",
       "      <td>32323</td>\n",
       "      <td>1049943</td>\n",
       "      <td>95.0</td>\n",
       "      <td>68.0</td>\n",
       "    </tr>\n",
       "    <tr>\n",
       "      <th>Gujarat</th>\n",
       "      <th>Ahmadabad</th>\n",
       "      <td>7214225</td>\n",
       "      <td>3025463</td>\n",
       "      <td>2410297</td>\n",
       "      <td>126341</td>\n",
       "      <td>1456046</td>\n",
       "      <td>90.0</td>\n",
       "      <td>75.0</td>\n",
       "    </tr>\n",
       "    <tr>\n",
       "      <th>West Bengal</th>\n",
       "      <th>Murshidabad</th>\n",
       "      <td>7103807</td>\n",
       "      <td>2177187</td>\n",
       "      <td>1878647</td>\n",
       "      <td>7951</td>\n",
       "      <td>541169</td>\n",
       "      <td>96.0</td>\n",
       "      <td>57.0</td>\n",
       "    </tr>\n",
       "    <tr>\n",
       "      <th>...</th>\n",
       "      <th>...</th>\n",
       "      <td>...</td>\n",
       "      <td>...</td>\n",
       "      <td>...</td>\n",
       "      <td>...</td>\n",
       "      <td>...</td>\n",
       "      <td>...</td>\n",
       "      <td>...</td>\n",
       "    </tr>\n",
       "    <tr>\n",
       "      <th>Puducherry</th>\n",
       "      <th>Yanam</th>\n",
       "      <td>55626</td>\n",
       "      <td>19919</td>\n",
       "      <td>19355</td>\n",
       "      <td>207</td>\n",
       "      <td>12859</td>\n",
       "      <td>104.0</td>\n",
       "      <td>71.0</td>\n",
       "    </tr>\n",
       "    <tr>\n",
       "      <th rowspan=\"2\" valign=\"top\">Arunachal Pradesh</th>\n",
       "      <th>Lower Dibang Valley</th>\n",
       "      <td>54080</td>\n",
       "      <td>18087</td>\n",
       "      <td>13762</td>\n",
       "      <td>207</td>\n",
       "      <td>5932</td>\n",
       "      <td>93.0</td>\n",
       "      <td>59.0</td>\n",
       "    </tr>\n",
       "    <tr>\n",
       "      <th>Tawang</th>\n",
       "      <td>49977</td>\n",
       "      <td>17720</td>\n",
       "      <td>8353</td>\n",
       "      <td>96</td>\n",
       "      <td>8635</td>\n",
       "      <td>71.0</td>\n",
       "      <td>52.0</td>\n",
       "    </tr>\n",
       "    <tr>\n",
       "      <th>Puducherry</th>\n",
       "      <th>Mahe</th>\n",
       "      <td>41816</td>\n",
       "      <td>16610</td>\n",
       "      <td>19860</td>\n",
       "      <td>574</td>\n",
       "      <td>7150</td>\n",
       "      <td>118.0</td>\n",
       "      <td>87.0</td>\n",
       "    </tr>\n",
       "    <tr>\n",
       "      <th>Arunachal Pradesh</th>\n",
       "      <th>Upper Siang</th>\n",
       "      <td>35320</td>\n",
       "      <td>10723</td>\n",
       "      <td>7472</td>\n",
       "      <td>97</td>\n",
       "      <td>6198</td>\n",
       "      <td>89.0</td>\n",
       "      <td>52.0</td>\n",
       "    </tr>\n",
       "  </tbody>\n",
       "</table>\n",
       "<p>507 rows × 7 columns</p>\n",
       "</div>"
      ],
      "text/plain": [
       "                                       Population  Male_Literate  \\\n",
       "State             District                                         \n",
       "Maharashtra       Thane                  11060148        4591396   \n",
       "                  Pune                    9429408        3940210   \n",
       "West Bengal       Barddhaman              7717563        2918040   \n",
       "Gujarat           Ahmadabad               7214225        3025463   \n",
       "West Bengal       Murshidabad             7103807        2177187   \n",
       "...                                           ...            ...   \n",
       "Puducherry        Yanam                     55626          19919   \n",
       "Arunachal Pradesh Lower Dibang Valley       54080          18087   \n",
       "                  Tawang                    49977          17720   \n",
       "Puducherry        Mahe                      41816          16610   \n",
       "Arunachal Pradesh Upper Siang               35320          10723   \n",
       "\n",
       "                                       Female_Literate  \\\n",
       "State             District                               \n",
       "Maharashtra       Thane                        3635765   \n",
       "                  Pune                         3231513   \n",
       "West Bengal       Barddhaman                   2329168   \n",
       "Gujarat           Ahmadabad                    2410297   \n",
       "West Bengal       Murshidabad                  1878647   \n",
       "...                                                ...   \n",
       "Puducherry        Yanam                          19355   \n",
       "Arunachal Pradesh Lower Dibang Valley            13762   \n",
       "                  Tawang                          8353   \n",
       "Puducherry        Mahe                           19860   \n",
       "Arunachal Pradesh Upper Siang                     7472   \n",
       "\n",
       "                                       Households_with_Internet  \\\n",
       "State             District                                        \n",
       "Maharashtra       Thane                                  256170   \n",
       "                  Pune                                   235018   \n",
       "West Bengal       Barddhaman                              32323   \n",
       "Gujarat           Ahmadabad                              126341   \n",
       "West Bengal       Murshidabad                              7951   \n",
       "...                                                         ...   \n",
       "Puducherry        Yanam                                     207   \n",
       "Arunachal Pradesh Lower Dibang Valley                       207   \n",
       "                  Tawang                                     96   \n",
       "Puducherry        Mahe                                      574   \n",
       "Arunachal Pradesh Upper Siang                                97   \n",
       "\n",
       "                                       Housholds_with_Electric_Lighting  \\\n",
       "State             District                                                \n",
       "Maharashtra       Thane                                         2231800   \n",
       "                  Pune                                          1925019   \n",
       "West Bengal       Barddhaman                                    1049943   \n",
       "Gujarat           Ahmadabad                                     1456046   \n",
       "West Bengal       Murshidabad                                    541169   \n",
       "...                                                                 ...   \n",
       "Puducherry        Yanam                                           12859   \n",
       "Arunachal Pradesh Lower Dibang Valley                              5932   \n",
       "                  Tawang                                           8635   \n",
       "Puducherry        Mahe                                             7150   \n",
       "Arunachal Pradesh Upper Siang                                      6198   \n",
       "\n",
       "                                       sex_ratio  literacy_rate  \n",
       "State             District                                       \n",
       "Maharashtra       Thane                     89.0           74.0  \n",
       "                  Pune                      91.0           76.0  \n",
       "West Bengal       Barddhaman                95.0           68.0  \n",
       "Gujarat           Ahmadabad                 90.0           75.0  \n",
       "West Bengal       Murshidabad               96.0           57.0  \n",
       "...                                          ...            ...  \n",
       "Puducherry        Yanam                    104.0           71.0  \n",
       "Arunachal Pradesh Lower Dibang Valley       93.0           59.0  \n",
       "                  Tawang                    71.0           52.0  \n",
       "Puducherry        Mahe                     118.0           87.0  \n",
       "Arunachal Pradesh Upper Siang               89.0           52.0  \n",
       "\n",
       "[507 rows x 7 columns]"
      ]
     },
     "execution_count": 68,
     "metadata": {},
     "output_type": "execute_result"
    }
   ],
   "source": [
    "# if a person selecting a state than give following according to that state\n",
    "# 1. Top 5 internet/household/literacy_rate/popultation\n",
    "# 2. If india is selected than\n",
    "df.groupby(['State','District'])[['Population','Male_Literate','Female_Literate','Households_with_Internet','Housholds_with_Electric_Lighting','sex_ratio','literacy_rate']].sum().sort_values(by='Population',ascending=False)"
   ]
  },
  {
   "cell_type": "code",
   "execution_count": null,
   "id": "f0eb35f1",
   "metadata": {},
   "outputs": [],
   "source": []
  }
 ],
 "metadata": {
  "kernelspec": {
   "display_name": "Python 3",
   "language": "python",
   "name": "python3"
  },
  "language_info": {
   "codemirror_mode": {
    "name": "ipython",
    "version": 3
   },
   "file_extension": ".py",
   "mimetype": "text/x-python",
   "name": "python",
   "nbconvert_exporter": "python",
   "pygments_lexer": "ipython3",
   "version": "3.13.3"
  }
 },
 "nbformat": 4,
 "nbformat_minor": 5
}
